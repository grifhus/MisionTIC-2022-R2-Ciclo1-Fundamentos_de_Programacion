{
 "cells": [
  {
   "cell_type": "markdown",
   "metadata": {},
   "source": [
    "# Llamar funciones de bibliotecas"
   ]
  },
  {
   "cell_type": "markdown",
   "metadata": {},
   "source": [
    "## Opción 1:\n",
    "Importar toda la biblioteca"
   ]
  },
  {
   "cell_type": "code",
   "execution_count": 1,
   "metadata": {},
   "outputs": [
    {
     "name": "stdout",
     "output_type": "stream",
     "text": [
      "0.9092974268256817\n"
     ]
    }
   ],
   "source": [
    "import math\n",
    "\n",
    "print(math.sin(2.0))"
   ]
  },
  {
   "cell_type": "markdown",
   "metadata": {},
   "source": [
    "## Opción 2: \n",
    "Importar toda la biblioteca con un alias"
   ]
  },
  {
   "cell_type": "code",
   "execution_count": 2,
   "metadata": {},
   "outputs": [],
   "source": [
    "import turtle as t\n",
    "\n",
    "t.forward(200)\n",
    "t.right(90)"
   ]
  },
  {
   "cell_type": "markdown",
   "metadata": {},
   "source": [
    "## Opción 3: \n",
    "Importar funciones especificas de la biblioteca"
   ]
  },
  {
   "cell_type": "code",
   "execution_count": 25,
   "metadata": {},
   "outputs": [
    {
     "name": "stdout",
     "output_type": "stream",
     "text": [
      "0.9496240856090699 0.017591072969842525\n",
      "8\n",
      "draw\n"
     ]
    }
   ],
   "source": [
    "from random import random, randrange, choice\n",
    "\n",
    "print(random(), random()) # Números decimales aleatorios del 0 a 1\n",
    "print(randrange(10))      # Números decimales aleatorios 0 y el 9\n",
    "print(choice([\"win\",\"lose\",\"draw\"])) # Elige un elemento aleatorio de la lista"
   ]
  }
 ],
 "metadata": {
  "interpreter": {
   "hash": "f5c2b1248faaeae4ec0c467ad9e947a623f8434b9674068f9a9aee9f6abe1676"
  },
  "kernelspec": {
   "display_name": "Python 3.9.13 64-bit (windows store)",
   "language": "python",
   "name": "python3"
  },
  "language_info": {
   "codemirror_mode": {
    "name": "ipython",
    "version": 3
   },
   "file_extension": ".py",
   "mimetype": "text/x-python",
   "name": "python",
   "nbconvert_exporter": "python",
   "pygments_lexer": "ipython3",
   "version": "3.9.13"
  },
  "orig_nbformat": 4
 },
 "nbformat": 4,
 "nbformat_minor": 2
}
