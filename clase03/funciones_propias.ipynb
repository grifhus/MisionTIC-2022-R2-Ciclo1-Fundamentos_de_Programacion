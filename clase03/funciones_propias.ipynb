{
 "cells": [
  {
   "cell_type": "markdown",
   "metadata": {},
   "source": [
    "# Definición de funciones nuevas (personalizadas)"
   ]
  },
  {
   "cell_type": "markdown",
   "metadata": {},
   "source": [
    "```python\n",
    "def NOMBRE(LISTA_DE_PARAMETROS):\n",
    "    \"\"\"DOCSTRING_DE_FUNCION\"\"\"\n",
    "    SENTENCIAS\n",
    "    RETURN [EXPRESION]\n",
    "```\n",
    "**NOMBRE**: es el nombre de la función.  \n",
    "**LISTA_DE_PARAMETROS**: es la lista de parámetros que puede recibir una función.  \n",
    "**DOCSTRING_DE_FUNCION**: es la cadena de caracteres usada para documentar la función.  \n",
    "**SENTENCIAS**: es el bloque de sentencias en código fuente Python que realizar cierta operación dada.  \n",
    "**RETURN**: es la sentencia return en código Python.  \n",
    "**EXPRESION**: es la expresión o variable que devuelve la sentencia return."
   ]
  },
  {
   "cell_type": "code",
   "execution_count": 3,
   "metadata": {},
   "outputs": [],
   "source": [
    "def mi_funcion():\n",
    "    print(\"Imprimiendo desde la función\")"
   ]
  },
  {
   "cell_type": "code",
   "execution_count": 4,
   "metadata": {},
   "outputs": [
    {
     "name": "stdout",
     "output_type": "stream",
     "text": [
      "Imprimiendo desde la función\n"
     ]
    }
   ],
   "source": [
    "mi_funcion()"
   ]
  },
  {
   "cell_type": "markdown",
   "metadata": {},
   "source": [
    "## Uso de parámetros"
   ]
  },
  {
   "cell_type": "code",
   "execution_count": 5,
   "metadata": {},
   "outputs": [],
   "source": [
    "def saludo(nombre):\n",
    "    print(\"Hola\", nombre)"
   ]
  },
  {
   "cell_type": "code",
   "execution_count": 6,
   "metadata": {},
   "outputs": [
    {
     "name": "stdout",
     "output_type": "stream",
     "text": [
      "Hola Cesar\n"
     ]
    }
   ],
   "source": [
    "saludo(\"Cesar\")"
   ]
  },
  {
   "cell_type": "code",
   "execution_count": 7,
   "metadata": {},
   "outputs": [
    {
     "name": "stdout",
     "output_type": "stream",
     "text": [
      "Hola Andres\n"
     ]
    }
   ],
   "source": [
    "saludo(\"Andres\")"
   ]
  },
  {
   "cell_type": "code",
   "execution_count": 8,
   "metadata": {},
   "outputs": [
    {
     "name": "stdout",
     "output_type": "stream",
     "text": [
      "Hola Pablo\n"
     ]
    }
   ],
   "source": [
    "saludo(\"Pablo\")"
   ]
  },
  {
   "cell_type": "markdown",
   "metadata": {},
   "source": [
    "## Varios parámetros"
   ]
  },
  {
   "cell_type": "code",
   "execution_count": 10,
   "metadata": {},
   "outputs": [],
   "source": [
    "def nombre_completo(nombre, apellido = \"Abad\"):\n",
    "    \"\"\"Generación del nombre completo de la persona\n",
    "    Parámetros\n",
    "        nombre: Identifica a la persona\n",
    "        apellido: Representa la familia del padre y la madre\n",
    "    Retorna\n",
    "        La unión de los dos parámetros ingresados\n",
    "    \"\"\"\n",
    "    return nombre + \" \" + apellido"
   ]
  },
  {
   "cell_type": "code",
   "execution_count": 11,
   "metadata": {},
   "outputs": [
    {
     "name": "stdout",
     "output_type": "stream",
     "text": [
      "César Díaz\n",
      "Andrea Martinez\n",
      "Carolina Abad\n",
      "Paulo Noriega\n"
     ]
    }
   ],
   "source": [
    "print(nombre_completo(\"César\", \"Díaz\"))\n",
    "print(nombre_completo(\"Andrea\", \"Martinez\"))\n",
    "print(nombre_completo(\"Carolina\"))\n",
    "print(nombre_completo(apellido=\"Noriega\", nombre = \"Paulo\"))"
   ]
  },
  {
   "cell_type": "code",
   "execution_count": 12,
   "metadata": {},
   "outputs": [
    {
     "name": "stdout",
     "output_type": "stream",
     "text": [
      "Generación del nombre completo de la persona\n",
      "    Parámetros\n",
      "        nombre: Identifica a la persona\n",
      "        apellido: Representa la familia del padre y la madre\n",
      "    Retorna\n",
      "        La unión de los dos parámetros ingresados\n",
      "    \n"
     ]
    }
   ],
   "source": [
    "print(nombre_completo.__doc__)"
   ]
  }
 ],
 "metadata": {
  "interpreter": {
   "hash": "f5c2b1248faaeae4ec0c467ad9e947a623f8434b9674068f9a9aee9f6abe1676"
  },
  "kernelspec": {
   "display_name": "Python 3.9.13 64-bit (windows store)",
   "language": "python",
   "name": "python3"
  },
  "language_info": {
   "codemirror_mode": {
    "name": "ipython",
    "version": 3
   },
   "file_extension": ".py",
   "mimetype": "text/x-python",
   "name": "python",
   "nbconvert_exporter": "python",
   "pygments_lexer": "ipython3",
   "version": "3.9.13"
  },
  "orig_nbformat": 4
 },
 "nbformat": 4,
 "nbformat_minor": 2
}
