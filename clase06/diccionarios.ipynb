{
 "cells": [
  {
   "cell_type": "markdown",
   "metadata": {},
   "source": [
    "# Manejo de Diccionarios"
   ]
  },
  {
   "cell_type": "markdown",
   "metadata": {},
   "source": [
    "## Definición"
   ]
  },
  {
   "cell_type": "code",
   "execution_count": 3,
   "metadata": {},
   "outputs": [],
   "source": [
    "profesor = {}\n",
    "\n",
    "profesor = dict()"
   ]
  },
  {
   "cell_type": "code",
   "execution_count": 4,
   "metadata": {},
   "outputs": [
    {
     "name": "stdout",
     "output_type": "stream",
     "text": [
      "{'key': 'value', 'nombre': 'Cesar', 'nacionalidad': 'Colombiano', 'edad': 41}\n"
     ]
    }
   ],
   "source": [
    "profesor = {\n",
    "    \"key\": \"value\",\n",
    "    \"nombre\": \"Cesar\",\n",
    "    \"nacionalidad\": \"Colombiano\",\n",
    "    \"edad\": 41\n",
    "}\n",
    "\n",
    "print(profesor)"
   ]
  },
  {
   "cell_type": "markdown",
   "metadata": {},
   "source": [
    "## Manipulación de diccionarios"
   ]
  },
  {
   "cell_type": "markdown",
   "metadata": {},
   "source": [
    "### Modificando el valor de una llave"
   ]
  },
  {
   "cell_type": "code",
   "execution_count": 5,
   "metadata": {},
   "outputs": [
    {
     "name": "stdout",
     "output_type": "stream",
     "text": [
      "{'key': 'value', 'nombre': 'César Díaz', 'nacionalidad': 'Colombiano', 'edad': 41}\n"
     ]
    }
   ],
   "source": [
    "profesor[\"nombre\"] = \"César Díaz\"\n",
    "\n",
    "print(profesor)"
   ]
  },
  {
   "cell_type": "code",
   "execution_count": 6,
   "metadata": {},
   "outputs": [
    {
     "name": "stdout",
     "output_type": "stream",
     "text": [
      "{'key': 'value', 'nombre': 'César Díaz', 'nacionalidad': 'Colombiano', 'edad': 42}\n"
     ]
    }
   ],
   "source": [
    "profesor[\"edad\"] += 1\n",
    "\n",
    "print(profesor)"
   ]
  },
  {
   "cell_type": "markdown",
   "metadata": {},
   "source": [
    "### Agregando un nuevo dato al diccionario"
   ]
  },
  {
   "cell_type": "code",
   "execution_count": 7,
   "metadata": {},
   "outputs": [
    {
     "name": "stdout",
     "output_type": "stream",
     "text": [
      "{'key': 'value', 'nombre': 'César Díaz', 'nacionalidad': 'Colombiano', 'edad': 42, 'estudiante': {'nombre': 'Edwin', 'nota': 3.0}}\n"
     ]
    }
   ],
   "source": [
    "profesor[\"estudiante\"] = { \"nombre\": \"Edwin\", \"nota\": 3.0}\n",
    "\n",
    "print(profesor)"
   ]
  },
  {
   "cell_type": "markdown",
   "metadata": {},
   "source": [
    "### Eliminando datos de un diccionario"
   ]
  },
  {
   "cell_type": "code",
   "execution_count": 8,
   "metadata": {},
   "outputs": [
    {
     "name": "stdout",
     "output_type": "stream",
     "text": [
      "{'key': 'value', 'nombre': 'César Díaz', 'nacionalidad': 'Colombiano', 'estudiante': {'nombre': 'Edwin', 'nota': 3.0}}\n"
     ]
    }
   ],
   "source": [
    "del profesor[\"edad\"]\n",
    "\n",
    "print(profesor)"
   ]
  },
  {
   "cell_type": "markdown",
   "metadata": {},
   "source": [
    "### Extrayendo información del diccionario"
   ]
  },
  {
   "cell_type": "code",
   "execution_count": 9,
   "metadata": {},
   "outputs": [
    {
     "name": "stdout",
     "output_type": "stream",
     "text": [
      "Nombre: César Díaz\n"
     ]
    }
   ],
   "source": [
    "print(\"Nombre:\", profesor[\"nombre\"])"
   ]
  },
  {
   "cell_type": "code",
   "execution_count": null,
   "metadata": {},
   "outputs": [],
   "source": [
    "print(\"Nombre estudiante:\", profesor[\"estudiante\"][\"nombre\"])"
   ]
  },
  {
   "cell_type": "markdown",
   "metadata": {},
   "source": [
    "## Pasar información a una función por parámetro"
   ]
  },
  {
   "cell_type": "code",
   "execution_count": 10,
   "metadata": {},
   "outputs": [],
   "source": [
    "def calcular_promedio(nombre: str, nota1: float, nota2: float, nota3: float, nota4: float):\n",
    "    promedio = (nota1 + nota2 + nota3 + nota4) / 4\n",
    "    return f\"El estudiante {nombre} ha obtenido la nota de {promedio:.1f}\" "
   ]
  },
  {
   "cell_type": "code",
   "execution_count": 11,
   "metadata": {},
   "outputs": [
    {
     "name": "stdout",
     "output_type": "stream",
     "text": [
      "El estudiante César Díaz ha obtenido la nota de 3.8\n"
     ]
    }
   ],
   "source": [
    "print(calcular_promedio(\"César Díaz\", 3.5, 4.5, 5.0, 2.1))"
   ]
  },
  {
   "cell_type": "code",
   "execution_count": 2,
   "metadata": {},
   "outputs": [],
   "source": [
    "def calcular_promedio_estudiante(estudiante: dict):\n",
    "    promedio = (estudiante[\"nota1\"] + estudiante[\"nota2\"] + estudiante[\"nota3\"] + estudiante[\"nota4\"]) / 4\n",
    "    return f\"El estudiante {estudiante['nombre']} ha obtenido la nota de {promedio:.1f}\" "
   ]
  },
  {
   "cell_type": "code",
   "execution_count": null,
   "metadata": {},
   "outputs": [],
   "source": [
    "cesar = {\n",
    "    \"nombre\": \"César Díaz\",\n",
    "    \"nota1\": 3.5,\n",
    "    \"nota2\": 4.5,\n",
    "    \"nota3\": 5.0,\n",
    "    \"nota4\": 2.1\n",
    "}\n",
    "print(calcular_promedio_estudiante(cesar))"
   ]
  }
 ],
 "metadata": {
  "interpreter": {
   "hash": "d127835bbccb4a4a450fa740c2def556e8b308bc34763c1e53e740bf4454bef0"
  },
  "kernelspec": {
   "display_name": "Python 3.10.4 64-bit (system)",
   "language": "python",
   "name": "python3"
  },
  "language_info": {
   "codemirror_mode": {
    "name": "ipython",
    "version": 3
   },
   "file_extension": ".py",
   "mimetype": "text/x-python",
   "name": "python",
   "nbconvert_exporter": "python",
   "pygments_lexer": "ipython3",
   "version": "3.10.4"
  },
  "orig_nbformat": 4
 },
 "nbformat": 4,
 "nbformat_minor": 2
}
