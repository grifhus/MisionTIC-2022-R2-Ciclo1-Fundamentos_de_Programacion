{
 "cells": [
  {
   "cell_type": "markdown",
   "metadata": {},
   "source": [
    "# Instrucciones condicionales en Python\n",
    "\n",
    "```Python\n",
    "if <condicion>:\n",
    "    <instrucciones>\n",
    "elif <condicion>:\n",
    "    <instrucciones>\n",
    "else:\n",
    "    <instrucciones>\n",
    "```"
   ]
  },
  {
   "cell_type": "markdown",
   "metadata": {},
   "source": [
    "## Decisiones simples"
   ]
  },
  {
   "cell_type": "code",
   "execution_count": 1,
   "metadata": {},
   "outputs": [
    {
     "ename": "KeyboardInterrupt",
     "evalue": "Interrupted by user",
     "output_type": "error",
     "traceback": [
      "\u001b[1;31m---------------------------------------------------------------------------\u001b[0m",
      "\u001b[1;31mKeyboardInterrupt\u001b[0m                         Traceback (most recent call last)",
      "\u001b[1;32mc:\\Users\\ANDRESIÑO\\Desktop\\Mintic\\Programacion\\MisionTIC-2022-R2-Ciclo1-Fundamentos_de_Programacion\\clase06\\instrucciones_condicionales.ipynb Cell 3'\u001b[0m in \u001b[0;36m<cell line: 1>\u001b[1;34m()\u001b[0m\n\u001b[1;32m----> <a href='vscode-notebook-cell:/c%3A/Users/ANDRESI%C3%91O/Desktop/Mintic/Programacion/MisionTIC-2022-R2-Ciclo1-Fundamentos_de_Programacion/clase06/instrucciones_condicionales.ipynb#ch0000002?line=0'>1</a>\u001b[0m hora \u001b[39m=\u001b[39m \u001b[39mint\u001b[39m(\u001b[39minput\u001b[39;49m(\u001b[39m\"\u001b[39;49m\u001b[39m¿Qué hora del dia es (0-23)?:\u001b[39;49m\u001b[39m\"\u001b[39;49m))\n\u001b[0;32m      <a href='vscode-notebook-cell:/c%3A/Users/ANDRESI%C3%91O/Desktop/Mintic/Programacion/MisionTIC-2022-R2-Ciclo1-Fundamentos_de_Programacion/clase06/instrucciones_condicionales.ipynb#ch0000002?line=2'>3</a>\u001b[0m \u001b[39mif\u001b[39;00m (hora \u001b[39m>\u001b[39m\u001b[39m=\u001b[39m \u001b[39m12\u001b[39m):\n\u001b[0;32m      <a href='vscode-notebook-cell:/c%3A/Users/ANDRESI%C3%91O/Desktop/Mintic/Programacion/MisionTIC-2022-R2-Ciclo1-Fundamentos_de_Programacion/clase06/instrucciones_condicionales.ipynb#ch0000002?line=3'>4</a>\u001b[0m     \u001b[39mprint\u001b[39m(\u001b[39m\"\u001b[39m\u001b[39mEstas en horas de la tarde\u001b[39m\u001b[39m\"\u001b[39m)\n",
      "File \u001b[1;32mc:\\Users\\ANDRESIÑO\\AppData\\Local\\Programs\\Python\\Python310\\lib\\site-packages\\ipykernel\\kernelbase.py:1161\u001b[0m, in \u001b[0;36mKernel.raw_input\u001b[1;34m(self, prompt)\u001b[0m\n\u001b[0;32m   <a href='file:///c%3A/Users/ANDRESI%C3%91O/AppData/Local/Programs/Python/Python310/lib/site-packages/ipykernel/kernelbase.py?line=1156'>1157</a>\u001b[0m \u001b[39mif\u001b[39;00m \u001b[39mnot\u001b[39;00m \u001b[39mself\u001b[39m\u001b[39m.\u001b[39m_allow_stdin:\n\u001b[0;32m   <a href='file:///c%3A/Users/ANDRESI%C3%91O/AppData/Local/Programs/Python/Python310/lib/site-packages/ipykernel/kernelbase.py?line=1157'>1158</a>\u001b[0m     \u001b[39mraise\u001b[39;00m StdinNotImplementedError(\n\u001b[0;32m   <a href='file:///c%3A/Users/ANDRESI%C3%91O/AppData/Local/Programs/Python/Python310/lib/site-packages/ipykernel/kernelbase.py?line=1158'>1159</a>\u001b[0m         \u001b[39m\"\u001b[39m\u001b[39mraw_input was called, but this frontend does not support input requests.\u001b[39m\u001b[39m\"\u001b[39m\n\u001b[0;32m   <a href='file:///c%3A/Users/ANDRESI%C3%91O/AppData/Local/Programs/Python/Python310/lib/site-packages/ipykernel/kernelbase.py?line=1159'>1160</a>\u001b[0m     )\n\u001b[1;32m-> <a href='file:///c%3A/Users/ANDRESI%C3%91O/AppData/Local/Programs/Python/Python310/lib/site-packages/ipykernel/kernelbase.py?line=1160'>1161</a>\u001b[0m \u001b[39mreturn\u001b[39;00m \u001b[39mself\u001b[39;49m\u001b[39m.\u001b[39;49m_input_request(\n\u001b[0;32m   <a href='file:///c%3A/Users/ANDRESI%C3%91O/AppData/Local/Programs/Python/Python310/lib/site-packages/ipykernel/kernelbase.py?line=1161'>1162</a>\u001b[0m     \u001b[39mstr\u001b[39;49m(prompt),\n\u001b[0;32m   <a href='file:///c%3A/Users/ANDRESI%C3%91O/AppData/Local/Programs/Python/Python310/lib/site-packages/ipykernel/kernelbase.py?line=1162'>1163</a>\u001b[0m     \u001b[39mself\u001b[39;49m\u001b[39m.\u001b[39;49m_parent_ident[\u001b[39m\"\u001b[39;49m\u001b[39mshell\u001b[39;49m\u001b[39m\"\u001b[39;49m],\n\u001b[0;32m   <a href='file:///c%3A/Users/ANDRESI%C3%91O/AppData/Local/Programs/Python/Python310/lib/site-packages/ipykernel/kernelbase.py?line=1163'>1164</a>\u001b[0m     \u001b[39mself\u001b[39;49m\u001b[39m.\u001b[39;49mget_parent(\u001b[39m\"\u001b[39;49m\u001b[39mshell\u001b[39;49m\u001b[39m\"\u001b[39;49m),\n\u001b[0;32m   <a href='file:///c%3A/Users/ANDRESI%C3%91O/AppData/Local/Programs/Python/Python310/lib/site-packages/ipykernel/kernelbase.py?line=1164'>1165</a>\u001b[0m     password\u001b[39m=\u001b[39;49m\u001b[39mFalse\u001b[39;49;00m,\n\u001b[0;32m   <a href='file:///c%3A/Users/ANDRESI%C3%91O/AppData/Local/Programs/Python/Python310/lib/site-packages/ipykernel/kernelbase.py?line=1165'>1166</a>\u001b[0m )\n",
      "File \u001b[1;32mc:\\Users\\ANDRESIÑO\\AppData\\Local\\Programs\\Python\\Python310\\lib\\site-packages\\ipykernel\\kernelbase.py:1205\u001b[0m, in \u001b[0;36mKernel._input_request\u001b[1;34m(self, prompt, ident, parent, password)\u001b[0m\n\u001b[0;32m   <a href='file:///c%3A/Users/ANDRESI%C3%91O/AppData/Local/Programs/Python/Python310/lib/site-packages/ipykernel/kernelbase.py?line=1201'>1202</a>\u001b[0m             \u001b[39mbreak\u001b[39;00m\n\u001b[0;32m   <a href='file:///c%3A/Users/ANDRESI%C3%91O/AppData/Local/Programs/Python/Python310/lib/site-packages/ipykernel/kernelbase.py?line=1202'>1203</a>\u001b[0m \u001b[39mexcept\u001b[39;00m \u001b[39mKeyboardInterrupt\u001b[39;00m:\n\u001b[0;32m   <a href='file:///c%3A/Users/ANDRESI%C3%91O/AppData/Local/Programs/Python/Python310/lib/site-packages/ipykernel/kernelbase.py?line=1203'>1204</a>\u001b[0m     \u001b[39m# re-raise KeyboardInterrupt, to truncate traceback\u001b[39;00m\n\u001b[1;32m-> <a href='file:///c%3A/Users/ANDRESI%C3%91O/AppData/Local/Programs/Python/Python310/lib/site-packages/ipykernel/kernelbase.py?line=1204'>1205</a>\u001b[0m     \u001b[39mraise\u001b[39;00m \u001b[39mKeyboardInterrupt\u001b[39;00m(\u001b[39m\"\u001b[39m\u001b[39mInterrupted by user\u001b[39m\u001b[39m\"\u001b[39m) \u001b[39mfrom\u001b[39;00m \u001b[39mNone\u001b[39m\n\u001b[0;32m   <a href='file:///c%3A/Users/ANDRESI%C3%91O/AppData/Local/Programs/Python/Python310/lib/site-packages/ipykernel/kernelbase.py?line=1205'>1206</a>\u001b[0m \u001b[39mexcept\u001b[39;00m \u001b[39mException\u001b[39;00m:\n\u001b[0;32m   <a href='file:///c%3A/Users/ANDRESI%C3%91O/AppData/Local/Programs/Python/Python310/lib/site-packages/ipykernel/kernelbase.py?line=1206'>1207</a>\u001b[0m     \u001b[39mself\u001b[39m\u001b[39m.\u001b[39mlog\u001b[39m.\u001b[39mwarning(\u001b[39m\"\u001b[39m\u001b[39mInvalid Message:\u001b[39m\u001b[39m\"\u001b[39m, exc_info\u001b[39m=\u001b[39m\u001b[39mTrue\u001b[39;00m)\n",
      "\u001b[1;31mKeyboardInterrupt\u001b[0m: Interrupted by user"
     ]
    }
   ],
   "source": [
    "hora = int(input(\"¿Qué hora del dia es (0-23)?:\"))\n",
    "\n",
    "if (hora >= 12):\n",
    "    print(\"Estas en horas de la tarde\")\n",
    "else:\n",
    "    print(\"Aún es de mañana\")"
   ]
  },
  {
   "cell_type": "markdown",
   "metadata": {},
   "source": [
    "## Decisiones en secuencia"
   ]
  },
  {
   "cell_type": "code",
   "execution_count": null,
   "metadata": {},
   "outputs": [],
   "source": [
    "num = int(input(\"Ingrese un valor numérico:\"))\n",
    "\n",
    "if num > 0:\n",
    "    print(\"El número\", num, \"es positivo\")\n",
    "\n",
    "if num < 0:\n",
    "    print(\"El número\", num, \"es negativo\")\n",
    "\n",
    "if num == 0:\n",
    "    print(\"El número\", num, \"es cero\")"
   ]
  },
  {
   "cell_type": "markdown",
   "metadata": {},
   "source": [
    "## Decisiones en cascada"
   ]
  },
  {
   "cell_type": "code",
   "execution_count": null,
   "metadata": {},
   "outputs": [],
   "source": [
    "num = int(input(\"Ingrese un valor numérico:\"))\n",
    "\n",
    "if num < 0:\n",
    "    num *= -1\n",
    "\n",
    "if num >= 0 and num <= 9:\n",
    "    print(\"El número tiene 1 dígito\")\n",
    "else:\n",
    "    if num >= 10 and num <= 99:\n",
    "        print(\"El número tiene 2 dígitos\")\n",
    "    else:\n",
    "        if num >= 100 and num <= 999:\n",
    "            print(\"El número tiene 3 dígitos\")\n",
    "        else:\n",
    "            if num >= 1000 and num <= 9999:\n",
    "                print(\"El número tiene 4 dígitos\")\n",
    "            else:\n",
    "                print(\"El número tiene más de 4 dígitos\")"
   ]
  },
  {
   "cell_type": "code",
   "execution_count": null,
   "metadata": {},
   "outputs": [],
   "source": [
    "num = int(input(\"Ingrese un valor numérico:\"))\n",
    "\n",
    "if num < 0:\n",
    "    num *= -1\n",
    "\n",
    "if num >= 0 and num <= 9:\n",
    "    print(\"El número tiene 1 dígito\")\n",
    "elif num >= 10 and num <= 99:\n",
    "    print(\"El número tiene 2 dígitos\")\n",
    "elif num >= 100 and num <= 999:\n",
    "    print(\"El número tiene 3 dígitos\")\n",
    "elif num >= 1000 and num <= 9999:\n",
    "    print(\"El número tiene 4 dígitos\")\n",
    "else:\n",
    "    print(\"El número tiene más de 4 dígitos\")"
   ]
  },
  {
   "cell_type": "markdown",
   "metadata": {},
   "source": [
    "## Decisiones anidadas"
   ]
  },
  {
   "cell_type": "code",
   "execution_count": null,
   "metadata": {},
   "outputs": [],
   "source": [
    "num = int(input(\"Ingrese un valor numérico:\"))\n",
    "\n",
    "if num > 0:\n",
    "    if num >= 10 and num <= 99:\n",
    "        print(\"El número es positivo y tiene dos dígitos\")\n",
    "    else:\n",
    "        print(\"El número es positivo y no tiene dos dígitos\")\n",
    "else:\n",
    "    if num >= -999 and num <= -100:\n",
    "        print(\"El número es negativo y tiene tres dígitos\")\n",
    "    else:\n",
    "        print(\"El número es negativo y no tiene tres dígitos\")"
   ]
  }
 ],
 "metadata": {
  "interpreter": {
   "hash": "d127835bbccb4a4a450fa740c2def556e8b308bc34763c1e53e740bf4454bef0"
  },
  "kernelspec": {
   "display_name": "Python 3.10.4 64-bit (system)",
   "language": "python",
   "name": "python3"
  },
  "language_info": {
   "codemirror_mode": {
    "name": "ipython",
    "version": 3
   },
   "file_extension": ".py",
   "mimetype": "text/x-python",
   "name": "python",
   "nbconvert_exporter": "python",
   "pygments_lexer": "ipython3",
   "version": "3.10.4"
  },
  "orig_nbformat": 4
 },
 "nbformat": 4,
 "nbformat_minor": 2
}
